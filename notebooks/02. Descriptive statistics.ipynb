{
 "cells": [
  {
   "cell_type": "markdown",
   "id": "f0d2b709-7731-4b1e-bc09-c08c8f9e929d",
   "metadata": {},
   "source": [
    "## **Descriptive Statistics**"
   ]
  },
  {
   "cell_type": "code",
   "execution_count": 1,
   "id": "68d724ee-1127-4857-91f6-2cdd9dbd4759",
   "metadata": {},
   "outputs": [],
   "source": [
    "#importing libraries\n",
    "import numpy as np\n",
    "import pandas as pd\n",
    "import matplotlib.pyplot as plt\n",
    "import seaborn as sns"
   ]
  },
  {
   "cell_type": "markdown",
   "id": "11e3c664-5b96-4731-96d3-5dded6d7df29",
   "metadata": {},
   "source": [
    "***1. Measure of central tendency***"
   ]
  },
  {
   "cell_type": "markdown",
   "id": "18becae9-edc7-4ea9-ae7e-38ccca4bec99",
   "metadata": {},
   "source": [
    "***i) Mean***"
   ]
  },
  {
   "cell_type": "code",
   "execution_count": 2,
   "id": "36703157-9fdf-4d4b-aef1-e8c728425282",
   "metadata": {},
   "outputs": [
    {
     "name": "stdout",
     "output_type": "stream",
     "text": [
      "Mean without outlier: 90.0\n",
      "Mean with outlier: 110.0\n"
     ]
    }
   ],
   "source": [
    "# Dataset without outlier\n",
    "data1 = [80, 85, 90, 95, 100]\n",
    "mean1 = np.mean(data1)\n",
    "\n",
    "# Dataset with an outlier\n",
    "data2 = [80, 85, 90, 95, 200]  # 200 is an outlier\n",
    "mean2 = np.mean(data2)\n",
    "\n",
    "print(\"Mean without outlier:\", mean1)\n",
    "print(\"Mean with outlier:\", mean2)\n"
   ]
  },
  {
   "cell_type": "markdown",
   "id": "9d0bb4cb-6aa7-4370-9cf8-6ef2934da9f2",
   "metadata": {},
   "source": [
    "***ii) Median***"
   ]
  },
  {
   "cell_type": "code",
   "execution_count": 3,
   "id": "f22580ba-66cf-4ee2-9eea-c819625b587c",
   "metadata": {},
   "outputs": [
    {
     "name": "stdout",
     "output_type": "stream",
     "text": [
      "Median without outlier: 90.0\n",
      "Median with outlier: 90.0\n"
     ]
    }
   ],
   "source": [
    "# Dataset without outlier\n",
    "median1 = np.median(data1)\n",
    "\n",
    "# Dataset with an outlier\n",
    "median2 = np.median(data2)\n",
    "\n",
    "print(\"Median without outlier:\", median1)\n",
    "print(\"Median with outlier:\", median2)"
   ]
  },
  {
   "cell_type": "markdown",
   "id": "93bc80a1-4586-4ff4-b916-10106f0743f3",
   "metadata": {},
   "source": [
    "***iii) Mode***"
   ]
  },
  {
   "cell_type": "code",
   "execution_count": 7,
   "id": "c3e007f8-3bb9-4b0d-92f4-cf0445642455",
   "metadata": {},
   "outputs": [
    {
     "name": "stdout",
     "output_type": "stream",
     "text": [
      "Mode: [7]\n"
     ]
    }
   ],
   "source": [
    "# Numerical dataset\n",
    "data = [4, 7, 8, 7, 6, 7, 9, 10]\n",
    "\n",
    "# Finding mode using Pandas\n",
    "mode_value = pd.Series(data).mode()\n",
    "\n",
    "print(\"Mode:\", mode_value.tolist())  # Convert to list for multiple modes"
   ]
  },
  {
   "cell_type": "code",
   "execution_count": 8,
   "id": "ce21e839-6cf2-40c7-8d4f-6ec9fafec2d9",
   "metadata": {},
   "outputs": [
    {
     "name": "stdout",
     "output_type": "stream",
     "text": [
      "Most Frequent Fruit (Mode): ['Apple']\n"
     ]
    }
   ],
   "source": [
    "# Categorical dataset\n",
    "fruits = [\"Apple\", \"Banana\", \"Apple\", \"Orange\", \"Apple\", \"Orange\", \"Banana\", \"Apple\"]\n",
    "\n",
    "# Finding mode using Pandas\n",
    "mode_fruit = pd.Series(fruits).mode()\n",
    "\n",
    "print(\"Most Frequent Fruit (Mode):\", mode_fruit.tolist())  # Convert to list"
   ]
  },
  {
   "cell_type": "markdown",
   "id": "57e34f0f-406b-4ff0-a044-83c98c7b5e29",
   "metadata": {},
   "source": [
    "***iv) Weighted Mean***"
   ]
  },
  {
   "cell_type": "code",
   "execution_count": 9,
   "id": "3621d2d2-dc4a-4dbb-9a9b-63c536cd52a9",
   "metadata": {},
   "outputs": [
    {
     "name": "stdout",
     "output_type": "stream",
     "text": [
      "Football Player Predicted Market Value (Weighted Mean): 56.5 M\n"
     ]
    }
   ],
   "source": [
    "# Football player market value prediction example\n",
    "values = np.array([50, 55, 60])  # Predictions from models\n",
    "weights = np.array([0.2, 0.3, 0.5])  # Importance of each model\n",
    "\n",
    "# Weighted mean calculation\n",
    "weighted_mean = np.average(values, weights=weights)\n",
    "\n",
    "print(\"Football Player Predicted Market Value (Weighted Mean):\", round(weighted_mean, 2), \"M\")\n"
   ]
  },
  {
   "cell_type": "code",
   "execution_count": 10,
   "id": "ebd3e4af-40e1-445e-a19a-ce2214129cea",
   "metadata": {},
   "outputs": [
    {
     "name": "stdout",
     "output_type": "stream",
     "text": [
      "Student's Final Grade (Weighted Mean): 85.7\n"
     ]
    }
   ],
   "source": [
    "# Student's grade example\n",
    "scores = np.array([85, 78, 92])  # Scores in Assignments, Midterm, Final\n",
    "weights = np.array([0.3, 0.3, 0.4])  # Weightage\n",
    "\n",
    "# Weighted mean calculation\n",
    "final_grade = np.average(scores, weights=weights)\n",
    "\n",
    "print(\"Student's Final Grade (Weighted Mean):\", round(final_grade, 2))"
   ]
  },
  {
   "cell_type": "markdown",
   "id": "3c49d6d6-de66-4409-adb8-0864b5c213f7",
   "metadata": {},
   "source": [
    "***v) Trimmed mean***"
   ]
  },
  {
   "cell_type": "code",
   "execution_count": 11,
   "id": "41d9c0bd-49c9-425f-a03c-6166d47d77fa",
   "metadata": {},
   "outputs": [
    {
     "name": "stdout",
     "output_type": "stream",
     "text": [
      "Trimmed Mean: 30.75\n"
     ]
    }
   ],
   "source": [
    "from scipy import stats\n",
    "\n",
    "# Example dataset (Athlete Speeds)\n",
    "data = [24, 25, 27, 28, 30, 50, 29, 26, 100, 31]\n",
    "\n",
    "# Calculate 20% trimmed mean\n",
    "trimmed_mean = stats.trim_mean(data, proportiontocut=0.1)  # Removes 10% from both ends\n",
    "\n",
    "print(\"Trimmed Mean:\", round(trimmed_mean, 2))\n"
   ]
  },
  {
   "cell_type": "code",
   "execution_count": 12,
   "id": "c821b399-53dc-4ec4-8110-4855702359f7",
   "metadata": {},
   "outputs": [
    {
     "name": "stdout",
     "output_type": "stream",
     "text": [
      "Trimmed Mean Salary: 107.5\n"
     ]
    }
   ],
   "source": [
    "# Example dataset (Employee Salaries in $1000s)\n",
    "salaries = [30, 32, 35, 40, 100, 120, 150, 200, 250, 300]\n",
    "\n",
    "# Calculate 20% trimmed mean\n",
    "trimmed_mean_salary = stats.trim_mean(salaries, proportiontocut=0.2)  # Removes 20% from both ends\n",
    "\n",
    "print(\"Trimmed Mean Salary:\", round(trimmed_mean_salary, 2))"
   ]
  },
  {
   "cell_type": "markdown",
   "id": "6ba6f472-8b64-423c-be3e-4af951e11cf1",
   "metadata": {},
   "source": [
    "***2. Measure of Dispersion***"
   ]
  },
  {
   "cell_type": "code",
   "execution_count": 13,
   "id": "e0854b5d-b5d4-4b9a-b3e6-44ebd3477216",
   "metadata": {},
   "outputs": [
    {
     "name": "stdout",
     "output_type": "stream",
     "text": [
      "Dataset A - Mean: 0.0, Range: 10, Variance: 16.666666666666668, Std Dev: 4.08248290463863\n",
      "Dataset B - Mean: 0.0, Range: 20, Variance: 66.66666666666667, Std Dev: 8.16496580927726\n"
     ]
    }
   ],
   "source": [
    "# Two datasets\n",
    "dataset_A = np.array([-5, 0, 5])\n",
    "dataset_B = np.array([-10, 0, 10])\n",
    "\n",
    "# Mean\n",
    "mean_A = np.mean(dataset_A)\n",
    "mean_B = np.mean(dataset_B)\n",
    "\n",
    "# Range\n",
    "range_A = np.ptp(dataset_A)  # Max - Min\n",
    "range_B = np.ptp(dataset_B)\n",
    "\n",
    "# Variance\n",
    "variance_A = np.var(dataset_A, ddof=0)  # Population variance\n",
    "variance_B = np.var(dataset_B, ddof=0)\n",
    "\n",
    "# Standard Deviation\n",
    "std_A = np.std(dataset_A, ddof=0)\n",
    "std_B = np.std(dataset_B, ddof=0)\n",
    "\n",
    "# Print results\n",
    "print(f\"Dataset A - Mean: {mean_A}, Range: {range_A}, Variance: {variance_A}, Std Dev: {std_A}\")\n",
    "print(f\"Dataset B - Mean: {mean_B}, Range: {range_B}, Variance: {variance_B}, Std Dev: {std_B}\")\n"
   ]
  },
  {
   "cell_type": "markdown",
   "id": "e4f25349-c62a-41b0-95bd-3e5404a74040",
   "metadata": {},
   "source": [
    "***i) Range***"
   ]
  },
  {
   "cell_type": "code",
   "execution_count": 14,
   "id": "b24ca911-d59e-4a45-a493-4d157a49a281",
   "metadata": {},
   "outputs": [
    {
     "name": "stdout",
     "output_type": "stream",
     "text": [
      "Range without outlier: 20\n",
      "Range with outlier: 95\n"
     ]
    }
   ],
   "source": [
    "# Example datasets\n",
    "data_without_outlier = np.array([5, 10, 15, 20, 25])\n",
    "data_with_outlier = np.array([5, 10, 15, 20, 100])\n",
    "\n",
    "# Calculate range\n",
    "range_without_outlier = np.ptp(data_without_outlier)  # Max - Min\n",
    "range_with_outlier = np.ptp(data_with_outlier)\n",
    "\n",
    "print(f\"Range without outlier: {range_without_outlier}\")\n",
    "print(f\"Range with outlier: {range_with_outlier}\")\n"
   ]
  },
  {
   "cell_type": "markdown",
   "id": "be9626a7-023f-4a55-9d9f-eada7609c5af",
   "metadata": {},
   "source": [
    "***ii) Variance***"
   ]
  },
  {
   "cell_type": "code",
   "execution_count": 15,
   "id": "810927e2-8ded-42b2-9782-603496d33531",
   "metadata": {},
   "outputs": [
    {
     "name": "stdout",
     "output_type": "stream",
     "text": [
      "Population Variance: 1250.0\n",
      "Sample Variance: 1562.5\n"
     ]
    }
   ],
   "source": [
    "# Example dataset\n",
    "data = np.array([5, 10, 15, 20, 100])\n",
    "\n",
    "# Population Variance\n",
    "pop_variance = np.var(data, ddof=0)  # ddof=0 means divide by N\n",
    "\n",
    "# Sample Variance\n",
    "sample_variance = np.var(data, ddof=1)  # ddof=1 means divide by (n-1)\n",
    "\n",
    "print(f\"Population Variance: {pop_variance}\")\n",
    "print(f\"Sample Variance: {sample_variance}\")\n"
   ]
  },
  {
   "cell_type": "markdown",
   "id": "07af5a53-aaee-4980-89c9-4ee00efd3484",
   "metadata": {},
   "source": [
    "***iii) Standard Deviation***"
   ]
  },
  {
   "cell_type": "code",
   "execution_count": 16,
   "id": "30f87b31-8e22-4abc-a517-c43284de555a",
   "metadata": {},
   "outputs": [
    {
     "name": "stdout",
     "output_type": "stream",
     "text": [
      "Population Standard Deviation: 35.35533905932738\n",
      "Sample Standard Deviation: 39.528470752104745\n"
     ]
    }
   ],
   "source": [
    "# Example dataset\n",
    "data = np.array([5, 10, 15, 20, 100])\n",
    "\n",
    "# Population Standard Deviation\n",
    "pop_std_dev = np.std(data, ddof=0)  # ddof=0 means divide by N\n",
    "\n",
    "# Sample Standard Deviation\n",
    "sample_std_dev = np.std(data, ddof=1)  # ddof=1 means divide by (n-1)\n",
    "\n",
    "print(f\"Population Standard Deviation: {pop_std_dev}\")\n",
    "print(f\"Sample Standard Deviation: {sample_std_dev}\")\n"
   ]
  },
  {
   "cell_type": "markdown",
   "id": "2d0cdebb-78e6-4745-ba21-c928574fd4d4",
   "metadata": {},
   "source": [
    "***iv) Coefficient of Variation (CV)***"
   ]
  },
  {
   "cell_type": "code",
   "execution_count": 17,
   "id": "50da85f5-8fc3-4958-809c-860252d0fced",
   "metadata": {},
   "outputs": [
    {
     "name": "stdout",
     "output_type": "stream",
     "text": [
      "Coefficient of Variation for Heights: 4.65%\n",
      "Coefficient of Variation for Salaries: 15.81%\n"
     ]
    }
   ],
   "source": [
    "# Example datasets\n",
    "heights = np.array([160, 165, 170, 175, 180])  # Heights in cm\n",
    "salaries = np.array([40000, 45000, 50000, 55000, 60000])  # Salaries in $\n",
    "\n",
    "# Function to calculate Coefficient of Variation\n",
    "def coefficient_of_variation(data):\n",
    "    mean = np.mean(data)\n",
    "    std_dev = np.std(data, ddof=1)  # Sample Standard Deviation\n",
    "    return (std_dev / mean) * 100  # Convert to percentage\n",
    "\n",
    "# Calculate CV for each dataset\n",
    "cv_heights = coefficient_of_variation(heights)\n",
    "cv_salaries = coefficient_of_variation(salaries)\n",
    "\n",
    "print(f\"Coefficient of Variation for Heights: {cv_heights:.2f}%\")\n",
    "print(f\"Coefficient of Variation for Salaries: {cv_salaries:.2f}%\")"
   ]
  },
  {
   "cell_type": "markdown",
   "id": "0943ef16-0f8c-4a7a-86cf-b4070102caf9",
   "metadata": {},
   "source": [
    "***v) Interquartile Range (IQR)***"
   ]
  },
  {
   "cell_type": "code",
   "execution_count": 18,
   "id": "fdae39a6-2d24-4306-908f-de98cc1b2149",
   "metadata": {},
   "outputs": [
    {
     "name": "stdout",
     "output_type": "stream",
     "text": [
      "Q1: 9.0, Q3: 25.0, IQR: 16.0\n",
      "Lower Bound: -15.0, Upper Bound: 49.0\n",
      "Outliers: No Outliers\n"
     ]
    }
   ],
   "source": [
    "import numpy as np\n",
    "\n",
    "# Sample dataset\n",
    "data = np.array([5, 7, 9, 10, 15, 21, 25, 30, 40])\n",
    "\n",
    "# Calculate Q1 (25th percentile) and Q3 (75th percentile)\n",
    "Q1 = np.percentile(data, 25)\n",
    "Q3 = np.percentile(data, 75)\n",
    "\n",
    "# Calculate IQR\n",
    "IQR = Q3 - Q1\n",
    "\n",
    "# Find outlier thresholds\n",
    "lower_bound = Q1 - 1.5 * IQR\n",
    "upper_bound = Q3 + 1.5 * IQR\n",
    "\n",
    "# Find outliers\n",
    "outliers = data[(data < lower_bound) | (data > upper_bound)]\n",
    "\n",
    "print(f\"Q1: {Q1}, Q3: {Q3}, IQR: {IQR}\")\n",
    "print(f\"Lower Bound: {lower_bound}, Upper Bound: {upper_bound}\")\n",
    "print(f\"Outliers: {outliers if len(outliers) > 0 else 'No Outliers'}\")"
   ]
  },
  {
   "cell_type": "code",
   "execution_count": null,
   "id": "34f13390-7a5f-437a-8b1f-5d23bd73b710",
   "metadata": {},
   "outputs": [],
   "source": []
  }
 ],
 "metadata": {
  "kernelspec": {
   "display_name": "Python 3 (ipykernel)",
   "language": "python",
   "name": "python3"
  },
  "language_info": {
   "codemirror_mode": {
    "name": "ipython",
    "version": 3
   },
   "file_extension": ".py",
   "mimetype": "text/x-python",
   "name": "python",
   "nbconvert_exporter": "python",
   "pygments_lexer": "ipython3",
   "version": "3.12.4"
  }
 },
 "nbformat": 4,
 "nbformat_minor": 5
}
